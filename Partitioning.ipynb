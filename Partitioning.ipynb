{
 "cells": [
  {
   "cell_type": "code",
   "execution_count": 1,
   "metadata": {},
   "outputs": [
    {
     "data": {
      "application/vnd.jupyter.widget-view+json": {
       "model_id": "f56ad64821cf4aafbbd6f34cb51485db",
       "version_major": 2,
       "version_minor": 0
      },
      "text/plain": [
       "VBox()"
      ]
     },
     "metadata": {},
     "output_type": "display_data"
    },
    {
     "name": "stdout",
     "output_type": "stream",
     "text": [
      "Starting Spark application\n"
     ]
    },
    {
     "data": {
      "text/html": [
       "<table>\n",
       "<tr><th>ID</th><th>YARN Application ID</th><th>Kind</th><th>State</th><th>Spark UI</th><th>Driver log</th><th>Current session?</th></tr><tr><td>7</td><td>application_1597603642565_0008</td><td>pyspark</td><td>idle</td><td><a target=\"_blank\" href=\"http://ip-172-31-12-204.ec2.internal:20888/proxy/application_1597603642565_0008/\">Link</a></td><td><a target=\"_blank\" href=\"http://ip-172-31-1-44.ec2.internal:8042/node/containerlogs/container_1597603642565_0008_01_000001/livy\">Link</a></td><td>✔</td></tr></table>"
      ],
      "text/plain": [
       "<IPython.core.display.HTML object>"
      ]
     },
     "metadata": {},
     "output_type": "display_data"
    },
    {
     "data": {
      "application/vnd.jupyter.widget-view+json": {
       "model_id": "",
       "version_major": 2,
       "version_minor": 0
      },
      "text/plain": [
       "FloatProgress(value=0.0, bar_style='info', description='Progress:', layout=Layout(height='25px', width='50%'),…"
      ]
     },
     "metadata": {},
     "output_type": "display_data"
    },
    {
     "name": "stdout",
     "output_type": "stream",
     "text": [
      "SparkSession available as 'spark'.\n"
     ]
    },
    {
     "data": {
      "application/vnd.jupyter.widget-view+json": {
       "model_id": "",
       "version_major": 2,
       "version_minor": 0
      },
      "text/plain": [
       "FloatProgress(value=0.0, bar_style='info', description='Progress:', layout=Layout(height='25px', width='50%'),…"
      ]
     },
     "metadata": {},
     "output_type": "display_data"
    }
   ],
   "source": [
    "sc = spark.sparkContext"
   ]
  },
  {
   "cell_type": "code",
   "execution_count": 2,
   "metadata": {},
   "outputs": [
    {
     "data": {
      "application/vnd.jupyter.widget-view+json": {
       "model_id": "247099f23a6349cdae60fa4ece943cfd",
       "version_major": 2,
       "version_minor": 0
      },
      "text/plain": [
       "VBox()"
      ]
     },
     "metadata": {},
     "output_type": "display_data"
    },
    {
     "data": {
      "application/vnd.jupyter.widget-view+json": {
       "model_id": "",
       "version_major": 2,
       "version_minor": 0
      },
      "text/plain": [
       "FloatProgress(value=0.0, bar_style='info', description='Progress:', layout=Layout(height='25px', width='50%'),…"
      ]
     },
     "metadata": {},
     "output_type": "display_data"
    },
    {
     "name": "stdout",
     "output_type": "stream",
     "text": [
      "range(0, 10)"
     ]
    }
   ],
   "source": [
    "nums = range(0, 10)\n",
    "print(nums)"
   ]
  },
  {
   "cell_type": "code",
   "execution_count": 3,
   "metadata": {},
   "outputs": [
    {
     "data": {
      "application/vnd.jupyter.widget-view+json": {
       "model_id": "cba1bffc597344edbf813ccd83d57f95",
       "version_major": 2,
       "version_minor": 0
      },
      "text/plain": [
       "VBox()"
      ]
     },
     "metadata": {},
     "output_type": "display_data"
    },
    {
     "data": {
      "application/vnd.jupyter.widget-view+json": {
       "model_id": "",
       "version_major": 2,
       "version_minor": 0
      },
      "text/plain": [
       "FloatProgress(value=0.0, bar_style='info', description='Progress:', layout=Layout(height='25px', width='50%'),…"
      ]
     },
     "metadata": {},
     "output_type": "display_data"
    },
    {
     "name": "stdout",
     "output_type": "stream",
     "text": [
      "2\n",
      "2\n",
      "None\n",
      "[[0, 1, 2, 3, 4], [5, 6, 7, 8, 9]]"
     ]
    }
   ],
   "source": [
    "rdd = sc.parallelize(nums)\n",
    "    \n",
    "print(sc.defaultParallelism)\n",
    "print(rdd.getNumPartitions())\n",
    "print(rdd.partitioner) # Right now there is no partitioner\n",
    "print(rdd.glom().collect())"
   ]
  },
  {
   "cell_type": "code",
   "execution_count": 4,
   "metadata": {},
   "outputs": [
    {
     "data": {
      "application/vnd.jupyter.widget-view+json": {
       "model_id": "73086fc87270492baeadc47a38e888e1",
       "version_major": 2,
       "version_minor": 0
      },
      "text/plain": [
       "VBox()"
      ]
     },
     "metadata": {},
     "output_type": "display_data"
    },
    {
     "data": {
      "application/vnd.jupyter.widget-view+json": {
       "model_id": "",
       "version_major": 2,
       "version_minor": 0
      },
      "text/plain": [
       "FloatProgress(value=0.0, bar_style='info', description='Progress:', layout=Layout(height='25px', width='50%'),…"
      ]
     },
     "metadata": {},
     "output_type": "display_data"
    },
    {
     "name": "stdout",
     "output_type": "stream",
     "text": [
      "2\n",
      "15\n",
      "None\n",
      "[[], [0], [1], [], [2], [3], [], [4], [5], [], [6], [7], [], [8], [9]]"
     ]
    }
   ],
   "source": [
    "rdd = sc.parallelize(nums,15)\n",
    "    \n",
    "print(sc.defaultParallelism)\n",
    "print(rdd.getNumPartitions())\n",
    "print(rdd.partitioner) # Right now there is no partitioner\n",
    "print(rdd.glom().collect())"
   ]
  },
  {
   "cell_type": "code",
   "execution_count": 8,
   "metadata": {},
   "outputs": [
    {
     "data": {
      "application/vnd.jupyter.widget-view+json": {
       "model_id": "dcf3109edad3467584ff7bb2ef8839e4",
       "version_major": 2,
       "version_minor": 0
      },
      "text/plain": [
       "VBox()"
      ]
     },
     "metadata": {},
     "output_type": "display_data"
    },
    {
     "data": {
      "application/vnd.jupyter.widget-view+json": {
       "model_id": "",
       "version_major": 2,
       "version_minor": 0
      },
      "text/plain": [
       "FloatProgress(value=0.0, bar_style='info', description='Progress:', layout=Layout(height='25px', width='50%'),…"
      ]
     },
     "metadata": {},
     "output_type": "display_data"
    },
    {
     "name": "stdout",
     "output_type": "stream",
     "text": [
      "2\n",
      "<pyspark.rdd.Partitioner object at 0x7f34e0381650>\n",
      "[[(0, 0), (2, 2), (4, 4), (6, 6), (8, 8)], [(1, 1), (3, 3), (5, 5), (7, 7), (9, 9)]]"
     ]
    }
   ],
   "source": [
    "## Custom partitons with partitionBy()\n",
    "\n",
    "# RDD must consist of tuple objects to use partitionBy() method\n",
    "\n",
    "rdd = sc.parallelize(nums) \\\n",
    "        .map(lambda el: (el, el)) \\\n",
    "        .partitionBy(2).persist()\n",
    "    \n",
    "print(rdd.getNumPartitions())\n",
    "print(rdd.partitioner)\n",
    "print(rdd.glom().collect())"
   ]
  },
  {
   "cell_type": "code",
   "execution_count": 9,
   "metadata": {},
   "outputs": [
    {
     "data": {
      "application/vnd.jupyter.widget-view+json": {
       "model_id": "1e8d8ca9c26f4a63be605a246c8f4e3e",
       "version_major": 2,
       "version_minor": 0
      },
      "text/plain": [
       "VBox()"
      ]
     },
     "metadata": {},
     "output_type": "display_data"
    },
    {
     "data": {
      "application/vnd.jupyter.widget-view+json": {
       "model_id": "",
       "version_major": 2,
       "version_minor": 0
      },
      "text/plain": [
       "FloatProgress(value=0.0, bar_style='info', description='Progress:', layout=Layout(height='25px', width='50%'),…"
      ]
     },
     "metadata": {},
     "output_type": "display_data"
    }
   ],
   "source": [
    "### Other  way of partitioning\n",
    "\n",
    "transactions = [\n",
    "    {'name': 'Vishwa', 'amount': 100, 'state': 'Bihar'},\n",
    "    {'name': 'Mohan', 'amount': 15, 'state': 'Bihar'},\n",
    "    {'name': 'Shivani', 'amount': 51, 'state': 'Karnataka'},\n",
    "    {'name': 'Abhishek', 'amount': 200, 'state': 'TamilNadu'},\n",
    "    {'name': 'Rohan', 'amount': 75, 'state': 'Karnataka'},\n",
    "]"
   ]
  },
  {
   "cell_type": "code",
   "execution_count": 10,
   "metadata": {},
   "outputs": [
    {
     "data": {
      "application/vnd.jupyter.widget-view+json": {
       "model_id": "f691ddfebc3c41b3bdbef11077541ca2",
       "version_major": 2,
       "version_minor": 0
      },
      "text/plain": [
       "VBox()"
      ]
     },
     "metadata": {},
     "output_type": "display_data"
    },
    {
     "data": {
      "application/vnd.jupyter.widget-view+json": {
       "model_id": "",
       "version_major": 2,
       "version_minor": 0
      },
      "text/plain": [
       "FloatProgress(value=0.0, bar_style='info', description='Progress:', layout=Layout(height='25px', width='50%'),…"
      ]
     },
     "metadata": {},
     "output_type": "display_data"
    },
    {
     "name": "stdout",
     "output_type": "stream",
     "text": [
      "0\n",
      "0\n",
      "1"
     ]
    }
   ],
   "source": [
    "def state_partitioner(state):\n",
    "    return hash(state)\n",
    "\n",
    "num_partitions = 5\n",
    "print(state_partitioner(\"Poland\") % num_partitions)\n",
    "print(state_partitioner(\"Germany\") % num_partitions)\n",
    "print(state_partitioner(\"United Kingdom\") % num_partitions)"
   ]
  },
  {
   "cell_type": "code",
   "execution_count": 11,
   "metadata": {},
   "outputs": [
    {
     "data": {
      "application/vnd.jupyter.widget-view+json": {
       "model_id": "e02c05d598e048e2a5f76b9407abdde0",
       "version_major": 2,
       "version_minor": 0
      },
      "text/plain": [
       "VBox()"
      ]
     },
     "metadata": {},
     "output_type": "display_data"
    },
    {
     "data": {
      "application/vnd.jupyter.widget-view+json": {
       "model_id": "",
       "version_major": 2,
       "version_minor": 0
      },
      "text/plain": [
       "FloatProgress(value=0.0, bar_style='info', description='Progress:', layout=Layout(height='25px', width='50%'),…"
      ]
     },
     "metadata": {},
     "output_type": "display_data"
    },
    {
     "name": "stdout",
     "output_type": "stream",
     "text": [
      "4\n",
      "<pyspark.rdd.Partitioner object at 0x7f34e02f49d0>\n",
      "[[('Bihar', {'name': 'Vishwa', 'amount': 100, 'state': 'Bihar'}), ('Bihar', {'name': 'Mohan', 'amount': 15, 'state': 'Bihar'}), ('Karnataka', {'name': 'Shivani', 'amount': 51, 'state': 'Karnataka'}), ('Karnataka', {'name': 'Rohan', 'amount': 75, 'state': 'Karnataka'})], [('TamilNadu', {'name': 'Abhishek', 'amount': 200, 'state': 'TamilNadu'})], [], []]"
     ]
    }
   ],
   "source": [
    "rdd = sc.parallelize(transactions) \\\n",
    "        .map(lambda el: (el['state'], el)) \\\n",
    "        .partitionBy(4, state_partitioner)\n",
    "    \n",
    "print(rdd.getNumPartitions())\n",
    "print(rdd.partitioner)\n",
    "print(rdd.glom().collect())"
   ]
  },
  {
   "cell_type": "code",
   "execution_count": 12,
   "metadata": {},
   "outputs": [
    {
     "data": {
      "application/vnd.jupyter.widget-view+json": {
       "model_id": "4da6a1765b154f42b24b400f82f9d053",
       "version_major": 2,
       "version_minor": 0
      },
      "text/plain": [
       "VBox()"
      ]
     },
     "metadata": {},
     "output_type": "display_data"
    },
    {
     "data": {
      "application/vnd.jupyter.widget-view+json": {
       "model_id": "",
       "version_major": 2,
       "version_minor": 0
      },
      "text/plain": [
       "FloatProgress(value=0.0, bar_style='info', description='Progress:', layout=Layout(height='25px', width='50%'),…"
      ]
     },
     "metadata": {},
     "output_type": "display_data"
    },
    {
     "name": "stdout",
     "output_type": "stream",
     "text": [
      "+------+--------+---------+\n",
      "|amount|    name|    state|\n",
      "+------+--------+---------+\n",
      "|   100|  Vishwa|    Bihar|\n",
      "|    15|   Mohan|    Bihar|\n",
      "|    51| Shivani|Karnataka|\n",
      "|   200|Abhishek|TamilNadu|\n",
      "|    75|   Rohan|Karnataka|\n",
      "+------+--------+---------+"
     ]
    }
   ],
   "source": [
    "### partitioning in the case of the dataframe\n",
    "from pyspark.sql import Row\n",
    "rdd = sc \\\n",
    "        .parallelize(transactions) \\\n",
    "        .map(lambda x: Row(**x))\n",
    "df = spark.createDataFrame(rdd)\n",
    "df.show()\n"
   ]
  },
  {
   "cell_type": "code",
   "execution_count": 13,
   "metadata": {},
   "outputs": [
    {
     "data": {
      "application/vnd.jupyter.widget-view+json": {
       "model_id": "2d1bdebf41614b82856b209e0da97a81",
       "version_major": 2,
       "version_minor": 0
      },
      "text/plain": [
       "VBox()"
      ]
     },
     "metadata": {},
     "output_type": "display_data"
    },
    {
     "data": {
      "application/vnd.jupyter.widget-view+json": {
       "model_id": "",
       "version_major": 2,
       "version_minor": 0
      },
      "text/plain": [
       "FloatProgress(value=0.0, bar_style='info', description='Progress:', layout=Layout(height='25px', width='50%'),…"
      ]
     },
     "metadata": {},
     "output_type": "display_data"
    },
    {
     "name": "stdout",
     "output_type": "stream",
     "text": [
      "\n",
      "After 'repartition()'\n",
      "200\n",
      "None\n",
      "[[], [], [], [], [], [Row(amount=51, name='Shivani', state='Karnataka'), Row(amount=75, name='Rohan', state='Karnataka')], [], [], [], [], [], [], [], [], [], [], [], [], [], [], [], [], [], [], [], [], [], [], [], [], [], [], [], [], [], [], [], [], [], [], [], [], [], [], [], [], [], [], [], [], [], [], [], [], [], [], [], [], [], [], [], [], [], [], [], [], [], [], [], [], [], [], [], [], [], [], [], [], [], [], [], [], [], [], [], [], [], [], [], [], [], [], [], [], [], [], [], [], [], [], [], [], [], [], [], [], [], [], [], [], [], [], [], [], [], [], [], [], [], [], [], [], [], [], [], [], [], [], [], [], [], [], [], [], [], [], [], [], [], [], [], [], [], [Row(amount=200, name='Abhishek', state='TamilNadu')], [], [], [], [], [], [], [], [], [], [], [], [], [], [], [], [], [], [], [], [], [], [], [], [], [], [], [], [], [], [], [], [], [], [], [], [], [], [Row(amount=100, name='Vishwa', state='Bihar'), Row(amount=15, name='Mohan', state='Bihar')], [], [], [], [], [], [], [], [], [], [], [], [], [], [], [], [], [], []]"
     ]
    }
   ],
   "source": [
    "df2 = df.repartition(\"state\")\n",
    "print(\"\\nAfter 'repartition()'\")\n",
    "print(df2.rdd.getNumPartitions())\n",
    "print(df2.rdd.partitioner)\n",
    "print(df2.rdd.glom().collect())"
   ]
  },
  {
   "cell_type": "code",
   "execution_count": 14,
   "metadata": {},
   "outputs": [
    {
     "data": {
      "application/vnd.jupyter.widget-view+json": {
       "model_id": "f3ecdf8b1b4e4a04ba8d70084ba376af",
       "version_major": 2,
       "version_minor": 0
      },
      "text/plain": [
       "VBox()"
      ]
     },
     "metadata": {},
     "output_type": "display_data"
    },
    {
     "data": {
      "application/vnd.jupyter.widget-view+json": {
       "model_id": "",
       "version_major": 2,
       "version_minor": 0
      },
      "text/plain": [
       "FloatProgress(value=0.0, bar_style='info', description='Progress:', layout=Layout(height='25px', width='50%'),…"
      ]
     },
     "metadata": {},
     "output_type": "display_data"
    },
    {
     "name": "stdout",
     "output_type": "stream",
     "text": [
      "\n",
      "After 'coalescing()'\n",
      "10\n",
      "None\n",
      "[[Row(amount=51, name='Shivani', state='Karnataka'), Row(amount=75, name='Rohan', state='Karnataka')], [Row(amount=100, name='Vishwa', state='Bihar'), Row(amount=15, name='Mohan', state='Bihar')], [], [Row(amount=200, name='Abhishek', state='TamilNadu')], [], [], [], [], [], []]"
     ]
    }
   ],
   "source": [
    "#repartition  - when increasing the number of parttitions and coalesce when decreasing the number of partitions\n",
    "\n",
    "df2= df2.coalesce(10)\n",
    "print(\"\\nAfter 'coalescing()'\")\n",
    "print(df2.rdd.getNumPartitions())\n",
    "print(df2.rdd.partitioner)\n",
    "print(df2.rdd.glom().collect())"
   ]
  },
  {
   "cell_type": "code",
   "execution_count": null,
   "metadata": {},
   "outputs": [],
   "source": []
  }
 ],
 "metadata": {
  "kernelspec": {
   "display_name": "PySpark",
   "language": "",
   "name": "pysparkkernel"
  },
  "language_info": {
   "codemirror_mode": {
    "name": "python",
    "version": 2
   },
   "mimetype": "text/x-python",
   "name": "pyspark",
   "pygments_lexer": "python2"
  }
 },
 "nbformat": 4,
 "nbformat_minor": 4
}
