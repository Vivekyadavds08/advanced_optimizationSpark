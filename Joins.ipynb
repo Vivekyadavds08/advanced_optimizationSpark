{
 "cells": [
  {
   "cell_type": "code",
   "execution_count": 1,
   "metadata": {},
   "outputs": [
    {
     "data": {
      "application/vnd.jupyter.widget-view+json": {
       "model_id": "28fc8fde42aa4d9dbb8073605c403b66",
       "version_major": 2,
       "version_minor": 0
      },
      "text/plain": [
       "VBox()"
      ]
     },
     "metadata": {},
     "output_type": "display_data"
    },
    {
     "name": "stdout",
     "output_type": "stream",
     "text": [
      "Starting Spark application\n"
     ]
    },
    {
     "data": {
      "text/html": [
       "<table>\n",
       "<tr><th>ID</th><th>YARN Application ID</th><th>Kind</th><th>State</th><th>Spark UI</th><th>Driver log</th><th>Current session?</th></tr><tr><td>1</td><td>application_1598209757476_0003</td><td>pyspark</td><td>idle</td><td><a target=\"_blank\" href=\"http://ip-172-31-9-152.ec2.internal:20888/proxy/application_1598209757476_0003/\">Link</a></td><td><a target=\"_blank\" href=\"http://ip-172-31-9-162.ec2.internal:8042/node/containerlogs/container_1598209757476_0003_01_000001/livy\">Link</a></td><td>✔</td></tr></table>"
      ],
      "text/plain": [
       "<IPython.core.display.HTML object>"
      ]
     },
     "metadata": {},
     "output_type": "display_data"
    },
    {
     "data": {
      "application/vnd.jupyter.widget-view+json": {
       "model_id": "",
       "version_major": 2,
       "version_minor": 0
      },
      "text/plain": [
       "FloatProgress(value=0.0, bar_style='info', description='Progress:', layout=Layout(height='25px', width='50%'),…"
      ]
     },
     "metadata": {},
     "output_type": "display_data"
    },
    {
     "name": "stdout",
     "output_type": "stream",
     "text": [
      "SparkSession available as 'spark'.\n"
     ]
    },
    {
     "data": {
      "application/vnd.jupyter.widget-view+json": {
       "model_id": "",
       "version_major": 2,
       "version_minor": 0
      },
      "text/plain": [
       "FloatProgress(value=0.0, bar_style='info', description='Progress:', layout=Layout(height='25px', width='50%'),…"
      ]
     },
     "metadata": {},
     "output_type": "display_data"
    },
    {
     "name": "stdout",
     "output_type": "stream",
     "text": [
      "<SparkContext master=yarn appName=livy-session-1>"
     ]
    }
   ],
   "source": [
    "sc"
   ]
  },
  {
   "cell_type": "code",
   "execution_count": 2,
   "metadata": {},
   "outputs": [
    {
     "data": {
      "application/vnd.jupyter.widget-view+json": {
       "model_id": "c3cfc11650b24702970ad5923855301c",
       "version_major": 2,
       "version_minor": 0
      },
      "text/plain": [
       "VBox()"
      ]
     },
     "metadata": {},
     "output_type": "display_data"
    },
    {
     "data": {
      "application/vnd.jupyter.widget-view+json": {
       "model_id": "",
       "version_major": 2,
       "version_minor": 0
      },
      "text/plain": [
       "FloatProgress(value=0.0, bar_style='info', description='Progress:', layout=Layout(height='25px', width='50%'),…"
      ]
     },
     "metadata": {},
     "output_type": "display_data"
    },
    {
     "name": "stdout",
     "output_type": "stream",
     "text": [
      "+--------+-------+------+----------+\n",
      "|movie_id|user_id|rating|time_stamp|\n",
      "+--------+-------+------+----------+\n",
      "|     186|    302|     3| 891717742|\n",
      "|      22|    377|     1| 878887116|\n",
      "|     244|     51|     2| 880606923|\n",
      "|     166|    346|     1| 886397596|\n",
      "|     298|    474|     4| 884182806|\n",
      "|     115|    265|     2| 881171488|\n",
      "|     253|    465|     5| 891628467|\n",
      "|     305|    451|     3| 886324817|\n",
      "|       6|     86|     3| 883603013|\n",
      "|      62|    257|     2| 879372434|\n",
      "|     286|   1014|     5| 879781125|\n",
      "|     200|    222|     5| 876042340|\n",
      "|     210|     40|     3| 891035994|\n",
      "|     224|     29|     3| 888104457|\n",
      "|     303|    785|     3| 879485318|\n",
      "|     122|    387|     5| 879270459|\n",
      "|     194|    274|     2| 879539794|\n",
      "|     291|   1042|     4| 874834944|\n",
      "|     234|   1184|     2| 892079237|\n",
      "|     119|    392|     4| 886176814|\n",
      "+--------+-------+------+----------+\n",
      "only showing top 20 rows"
     ]
    }
   ],
   "source": [
    "#Specifying the schema instead of inferring it \n",
    "from pyspark.sql.types import StructType, StructField, IntegerType, StringType, BooleanType, DoubleType, LongType\n",
    "\n",
    "fileSchema = StructType([StructField('movie_id', IntegerType(),True),\n",
    "                        StructField('user_id', IntegerType(),True),\n",
    "                        StructField('rating', IntegerType(),True),\n",
    "                        StructField('time_stamp', LongType(),True)])\n",
    "\n",
    "movie_ratings = spark.read.load(\"s3://sparkbucket123/u.data\", format=\"csv\", sep=\"\\t\", schema = fileSchema, header=\"true\")\n",
    "\n",
    "movie_ratings.show()"
   ]
  },
  {
   "cell_type": "code",
   "execution_count": 3,
   "metadata": {},
   "outputs": [
    {
     "data": {
      "application/vnd.jupyter.widget-view+json": {
       "model_id": "0df92cfa60ff4b508629a0bf2ab626ac",
       "version_major": 2,
       "version_minor": 0
      },
      "text/plain": [
       "VBox()"
      ]
     },
     "metadata": {},
     "output_type": "display_data"
    },
    {
     "data": {
      "application/vnd.jupyter.widget-view+json": {
       "model_id": "",
       "version_major": 2,
       "version_minor": 0
      },
      "text/plain": [
       "FloatProgress(value=0.0, bar_style='info', description='Progress:', layout=Layout(height='25px', width='50%'),…"
      ]
     },
     "metadata": {},
     "output_type": "display_data"
    },
    {
     "name": "stdout",
     "output_type": "stream",
     "text": [
      "+---+--------------------+-----------+----+-----------------------------------------------------+---+---+---+---+---+---+---+---+---+---+---+---+---+---+---+---+---+---+---+\n",
      "| 10|    Toy Story (1995)|01-Jan-1995| _c3|http://us.imdb.com/M/title-exact?Toy%20Story%20(1995)| 05| 06| 07| 18| 19|110|011|012|013|014|015|016|017|018|019|020|021|022|023|\n",
      "+---+--------------------+-----------+----+-----------------------------------------------------+---+---+---+---+---+---+---+---+---+---+---+---+---+---+---+---+---+---+---+\n",
      "|  2|    GoldenEye (1995)|01-Jan-1995|null|                                 http://us.imdb.co...|  0|  1|  1|  0|  0|  0|  0|  0|  0|  0|  0|  0|  0|  0|  0|  0|  1|  0|  0|\n",
      "|  3|   Four Rooms (1995)|01-Jan-1995|null|                                 http://us.imdb.co...|  0|  0|  0|  0|  0|  0|  0|  0|  0|  0|  0|  0|  0|  0|  0|  0|  1|  0|  0|\n",
      "|  4|   Get Shorty (1995)|01-Jan-1995|null|                                 http://us.imdb.co...|  0|  1|  0|  0|  0|  1|  0|  0|  1|  0|  0|  0|  0|  0|  0|  0|  0|  0|  0|\n",
      "|  5|      Copycat (1995)|01-Jan-1995|null|                                 http://us.imdb.co...|  0|  0|  0|  0|  0|  0|  1|  0|  1|  0|  0|  0|  0|  0|  0|  0|  1|  0|  0|\n",
      "|  6|Shanghai Triad (Y...|01-Jan-1995|null|                                 http://us.imdb.co...|  0|  0|  0|  0|  0|  0|  0|  0|  1|  0|  0|  0|  0|  0|  0|  0|  0|  0|  0|\n",
      "|  7|Twelve Monkeys (1...|01-Jan-1995|null|                                 http://us.imdb.co...|  0|  0|  0|  0|  0|  0|  0|  0|  1|  0|  0|  0|  0|  0|  0|  1|  0|  0|  0|\n",
      "|  8|         Babe (1995)|01-Jan-1995|null|                                 http://us.imdb.co...|  0|  0|  0|  0|  1|  1|  0|  0|  1|  0|  0|  0|  0|  0|  0|  0|  0|  0|  0|\n",
      "|  9|Dead Man Walking ...|01-Jan-1995|null|                                 http://us.imdb.co...|  0|  0|  0|  0|  0|  0|  0|  0|  1|  0|  0|  0|  0|  0|  0|  0|  0|  0|  0|\n",
      "| 10|  Richard III (1995)|22-Jan-1996|null|                                 http://us.imdb.co...|  0|  0|  0|  0|  0|  0|  0|  0|  1|  0|  0|  0|  0|  0|  0|  0|  0|  1|  0|\n",
      "| 11|Seven (Se7en) (1995)|01-Jan-1995|null|                                 http://us.imdb.co...|  0|  0|  0|  0|  0|  0|  1|  0|  0|  0|  0|  0|  0|  0|  0|  0|  1|  0|  0|\n",
      "| 12|Usual Suspects, T...|14-Aug-1995|null|                                 http://us.imdb.co...|  0|  0|  0|  0|  0|  0|  1|  0|  0|  0|  0|  0|  0|  0|  0|  0|  1|  0|  0|\n",
      "| 13|Mighty Aphrodite ...|30-Oct-1995|null|                                 http://us.imdb.co...|  0|  0|  0|  0|  0|  1|  0|  0|  0|  0|  0|  0|  0|  0|  0|  0|  0|  0|  0|\n",
      "| 14|  Postino, Il (1994)|01-Jan-1994|null|                                 http://us.imdb.co...|  0|  0|  0|  0|  0|  0|  0|  0|  1|  0|  0|  0|  0|  0|  1|  0|  0|  0|  0|\n",
      "| 15|Mr. Holland's Opu...|29-Jan-1996|null|                                 http://us.imdb.co...|  0|  0|  0|  0|  0|  0|  0|  0|  1|  0|  0|  0|  0|  0|  0|  0|  0|  0|  0|\n",
      "| 16|French Twist (Gaz...|01-Jan-1995|null|                                 http://us.imdb.co...|  0|  0|  0|  0|  0|  1|  0|  0|  0|  0|  0|  0|  0|  0|  1|  0|  0|  0|  0|\n",
      "| 17|From Dusk Till Da...|05-Feb-1996|null|                                 http://us.imdb.co...|  0|  1|  0|  0|  0|  1|  1|  0|  0|  0|  0|  1|  0|  0|  0|  0|  1|  0|  0|\n",
      "| 18|White Balloon, Th...|01-Jan-1995|null|                                 http://us.imdb.co...|  0|  0|  0|  0|  0|  0|  0|  0|  1|  0|  0|  0|  0|  0|  0|  0|  0|  0|  0|\n",
      "| 19|Antonia's Line (1...|01-Jan-1995|null|                                 http://us.imdb.co...|  0|  0|  0|  0|  0|  0|  0|  0|  1|  0|  0|  0|  0|  0|  0|  0|  0|  0|  0|\n",
      "| 20|Angels and Insect...|01-Jan-1995|null|                                 http://us.imdb.co...|  0|  0|  0|  0|  0|  0|  0|  0|  1|  0|  0|  0|  0|  0|  1|  0|  0|  0|  0|\n",
      "| 21|Muppet Treasure I...|16-Feb-1996|null|                                 http://us.imdb.co...|  0|  1|  1|  0|  0|  1|  0|  0|  0|  0|  0|  0|  1|  0|  0|  0|  1|  0|  0|\n",
      "+---+--------------------+-----------+----+-----------------------------------------------------+---+---+---+---+---+---+---+---+---+---+---+---+---+---+---+---+---+---+---+\n",
      "only showing top 20 rows"
     ]
    }
   ],
   "source": [
    "\n",
    "movies = spark.read.load(\"s3://sparkbucket123/u.item\", format=\"csv\", sep=\"|\", inferSchema=\"true\", header=\"true\")\n",
    "\n",
    "movies.show()"
   ]
  },
  {
   "cell_type": "code",
   "execution_count": null,
   "metadata": {},
   "outputs": [],
   "source": [
    "movies.show(1)"
   ]
  },
  {
   "cell_type": "code",
   "execution_count": 4,
   "metadata": {},
   "outputs": [
    {
     "data": {
      "application/vnd.jupyter.widget-view+json": {
       "model_id": "94f2ece65d39469e811ae17643b5f204",
       "version_major": 2,
       "version_minor": 0
      },
      "text/plain": [
       "VBox()"
      ]
     },
     "metadata": {},
     "output_type": "display_data"
    },
    {
     "data": {
      "application/vnd.jupyter.widget-view+json": {
       "model_id": "",
       "version_major": 2,
       "version_minor": 0
      },
      "text/plain": [
       "FloatProgress(value=0.0, bar_style='info', description='Progress:', layout=Layout(height='25px', width='50%'),…"
      ]
     },
     "metadata": {},
     "output_type": "display_data"
    },
    {
     "name": "stdout",
     "output_type": "stream",
     "text": [
      "root\n",
      " |-- movie_id: integer (nullable = true)\n",
      " |-- movie_name: string (nullable = true)\n",
      "\n",
      "+--------+--------------------+\n",
      "|movie_id|          movie_name|\n",
      "+--------+--------------------+\n",
      "|       2|    GoldenEye (1995)|\n",
      "|       3|   Four Rooms (1995)|\n",
      "|       4|   Get Shorty (1995)|\n",
      "|       5|      Copycat (1995)|\n",
      "|       6|Shanghai Triad (Y...|\n",
      "|       7|Twelve Monkeys (1...|\n",
      "|       8|         Babe (1995)|\n",
      "|       9|Dead Man Walking ...|\n",
      "|      10|  Richard III (1995)|\n",
      "|      11|Seven (Se7en) (1995)|\n",
      "|      12|Usual Suspects, T...|\n",
      "|      13|Mighty Aphrodite ...|\n",
      "|      14|  Postino, Il (1994)|\n",
      "|      15|Mr. Holland's Opu...|\n",
      "|      16|French Twist (Gaz...|\n",
      "|      17|From Dusk Till Da...|\n",
      "|      18|White Balloon, Th...|\n",
      "|      19|Antonia's Line (1...|\n",
      "|      20|Angels and Insect...|\n",
      "|      21|Muppet Treasure I...|\n",
      "+--------+--------------------+\n",
      "only showing top 20 rows"
     ]
    }
   ],
   "source": [
    "movie_selected = movies.select('10', 'Toy Story (1995)')\n",
    "from functools import reduce\n",
    "\n",
    "oldColumns = movie_selected.schema.names\n",
    "newColumns = [\"movie_id\", \"movie_name\"]\n",
    "\n",
    "movie_names = reduce(lambda movie_selected, idx: movie_selected.withColumnRenamed(oldColumns[idx], newColumns[idx]), range(len(oldColumns)), movie_selected)\n",
    "movie_names.printSchema()\n",
    "movie_names.show()\n"
   ]
  },
  {
   "cell_type": "code",
   "execution_count": 5,
   "metadata": {},
   "outputs": [
    {
     "data": {
      "application/vnd.jupyter.widget-view+json": {
       "model_id": "cced62a9e1454ce09d6e8bdab47b2a59",
       "version_major": 2,
       "version_minor": 0
      },
      "text/plain": [
       "VBox()"
      ]
     },
     "metadata": {},
     "output_type": "display_data"
    },
    {
     "data": {
      "application/vnd.jupyter.widget-view+json": {
       "model_id": "",
       "version_major": 2,
       "version_minor": 0
      },
      "text/plain": [
       "FloatProgress(value=0.0, bar_style='info', description='Progress:', layout=Layout(height='25px', width='50%'),…"
      ]
     },
     "metadata": {},
     "output_type": "display_data"
    },
    {
     "name": "stdout",
     "output_type": "stream",
     "text": [
      "+--------+-------+------+----------+--------------------+\n",
      "|movie_id|user_id|rating|time_stamp|          movie_name|\n",
      "+--------+-------+------+----------+--------------------+\n",
      "|     186|    302|     3| 891717742|Blues Brothers, T...|\n",
      "|      22|    377|     1| 878887116|   Braveheart (1995)|\n",
      "|     244|     51|     2| 880606923|Smilla's Sense of...|\n",
      "|     166|    346|     1| 886397596|Manon of the Spri...|\n",
      "|     298|    474|     4| 884182806|     Face/Off (1997)|\n",
      "|     115|    265|     2| 881171488|Haunted World of ...|\n",
      "|     253|    465|     5| 891628467|Pillow Book, The ...|\n",
      "|     305|    451|     3| 886324817|Ice Storm, The (1...|\n",
      "|       6|     86|     3| 883603013|Shanghai Triad (Y...|\n",
      "|      62|    257|     2| 879372434|     Stargate (1994)|\n",
      "|     286|   1014|     5| 879781125|English Patient, ...|\n",
      "|     200|    222|     5| 876042340| Shining, The (1980)|\n",
      "|     210|     40|     3| 891035994|Indiana Jones and...|\n",
      "|     224|     29|     3| 888104457|     Ridicule (1996)|\n",
      "|     303|    785|     3| 879485318|  Ulee's Gold (1997)|\n",
      "|     122|    387|     5| 879270459|Cable Guy, The (1...|\n",
      "|     194|    274|     2| 879539794|   Sting, The (1973)|\n",
      "|     291|   1042|     4| 874834944|Absolute Power (1...|\n",
      "|     234|   1184|     2| 892079237|         Jaws (1975)|\n",
      "|     119|    392|     4| 886176814|Maya Lin: A Stron...|\n",
      "+--------+-------+------+----------+--------------------+\n",
      "only showing top 20 rows"
     ]
    }
   ],
   "source": [
    "shuffled_join = movie_ratings.join(movie_names , [\"movie_id\"])\n",
    "shuffled_join.show()"
   ]
  },
  {
   "cell_type": "code",
   "execution_count": 6,
   "metadata": {},
   "outputs": [
    {
     "data": {
      "application/vnd.jupyter.widget-view+json": {
       "model_id": "e77ea617aaab4e18b05a3041d35e99bb",
       "version_major": 2,
       "version_minor": 0
      },
      "text/plain": [
       "VBox()"
      ]
     },
     "metadata": {},
     "output_type": "display_data"
    },
    {
     "data": {
      "application/vnd.jupyter.widget-view+json": {
       "model_id": "",
       "version_major": 2,
       "version_minor": 0
      },
      "text/plain": [
       "FloatProgress(value=0.0, bar_style='info', description='Progress:', layout=Layout(height='25px', width='50%'),…"
      ]
     },
     "metadata": {},
     "output_type": "display_data"
    },
    {
     "name": "stdout",
     "output_type": "stream",
     "text": [
      "+--------+-------+------+----------+--------------------+\n",
      "|movie_id|user_id|rating|time_stamp|          movie_name|\n",
      "+--------+-------+------+----------+--------------------+\n",
      "|     186|    302|     3| 891717742|Blues Brothers, T...|\n",
      "|      22|    377|     1| 878887116|   Braveheart (1995)|\n",
      "|     244|     51|     2| 880606923|Smilla's Sense of...|\n",
      "|     166|    346|     1| 886397596|Manon of the Spri...|\n",
      "|     298|    474|     4| 884182806|     Face/Off (1997)|\n",
      "|     115|    265|     2| 881171488|Haunted World of ...|\n",
      "|     253|    465|     5| 891628467|Pillow Book, The ...|\n",
      "|     305|    451|     3| 886324817|Ice Storm, The (1...|\n",
      "|       6|     86|     3| 883603013|Shanghai Triad (Y...|\n",
      "|      62|    257|     2| 879372434|     Stargate (1994)|\n",
      "|     286|   1014|     5| 879781125|English Patient, ...|\n",
      "|     200|    222|     5| 876042340| Shining, The (1980)|\n",
      "|     210|     40|     3| 891035994|Indiana Jones and...|\n",
      "|     224|     29|     3| 888104457|     Ridicule (1996)|\n",
      "|     303|    785|     3| 879485318|  Ulee's Gold (1997)|\n",
      "|     122|    387|     5| 879270459|Cable Guy, The (1...|\n",
      "|     194|    274|     2| 879539794|   Sting, The (1973)|\n",
      "|     291|   1042|     4| 874834944|Absolute Power (1...|\n",
      "|     234|   1184|     2| 892079237|         Jaws (1975)|\n",
      "|     119|    392|     4| 886176814|Maya Lin: A Stron...|\n",
      "+--------+-------+------+----------+--------------------+\n",
      "only showing top 20 rows"
     ]
    }
   ],
   "source": [
    "from pyspark.sql.functions import broadcast\n",
    "\n",
    "joined_data = movie_ratings.join(movie_names.hint(\"broadcast\") , [\"movie_id\"])\n",
    "\n",
    "joined_data.show()\n",
    "\n"
   ]
  },
  {
   "cell_type": "code",
   "execution_count": null,
   "metadata": {},
   "outputs": [],
   "source": []
  }
 ],
 "metadata": {
  "kernelspec": {
   "display_name": "PySpark",
   "language": "",
   "name": "pysparkkernel"
  },
  "language_info": {
   "codemirror_mode": {
    "name": "python",
    "version": 2
   },
   "mimetype": "text/x-python",
   "name": "pyspark",
   "pygments_lexer": "python2"
  }
 },
 "nbformat": 4,
 "nbformat_minor": 4
}
